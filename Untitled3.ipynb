{
 "cells": [
  {
   "cell_type": "code",
   "execution_count": null,
   "id": "2d370fc0-bc54-4f1f-8173-b452c2e12459",
   "metadata": {},
   "outputs": [],
   "source": []
  }
 ],
 "metadata": {
  "kernelspec": {
   "display_name": "",
   "name": ""
  },
  "language_info": {
   "name": ""
  }
 },
 "nbformat": 4,
 "nbformat_minor": 5
}
