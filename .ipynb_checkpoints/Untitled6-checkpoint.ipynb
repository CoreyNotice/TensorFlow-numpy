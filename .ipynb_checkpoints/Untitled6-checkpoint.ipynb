{
 "cells": [
  {
   "cell_type": "code",
   "execution_count": 2,
   "id": "d80db478-c9c8-4481-b4b5-24499c408d69",
   "metadata": {},
   "outputs": [],
   "source": [
    "import numpy as np\n"
   ]
  },
  {
   "cell_type": "code",
   "execution_count": 3,
   "id": "275d517e-4615-42c3-89c7-6f6438e1571c",
   "metadata": {},
   "outputs": [
    {
     "data": {
      "text/plain": [
       "array([[0.11991755, 0.29796127, 0.00447505],\n",
       "       [0.98666797, 0.7816778 , 0.00966691],\n",
       "       [0.16543816, 0.32056499, 0.14254852],\n",
       "       [0.25769511, 0.77308546, 0.13485184],\n",
       "       [0.29051021, 0.39827166, 0.08306757]])"
      ]
     },
     "execution_count": 3,
     "metadata": {},
     "output_type": "execute_result"
    }
   ],
   "source": [
    "np.random.rand(5,3)"
   ]
  },
  {
   "cell_type": "code",
   "execution_count": 4,
   "id": "d4eeea07-047e-4eb2-a531-ff2cc85f66a4",
   "metadata": {},
   "outputs": [],
   "source": [
    "np.random.seed(seed=0)\n",
    "random_array_4= np.random.randint(10, size=(5,3))"
   ]
  },
  {
   "cell_type": "code",
   "execution_count": 11,
   "id": "64072b4f-4d2b-410e-a003-3d069e5d835d",
   "metadata": {},
   "outputs": [
    {
     "data": {
      "text/plain": [
       "array([[5, 5, 9],\n",
       "       [1, 6, 1],\n",
       "       [0, 1, 8],\n",
       "       [7, 9, 0],\n",
       "       [8, 0, 2]])"
      ]
     },
     "execution_count": 11,
     "metadata": {},
     "output_type": "execute_result"
    }
   ],
   "source": [
    "random_array_4\n"
   ]
  },
  {
   "cell_type": "code",
   "execution_count": 6,
   "id": "bb746a26-7736-45f5-b9b8-508ff220ec80",
   "metadata": {},
   "outputs": [
    {
     "data": {
      "text/plain": [
       "array([[5, 5, 9],\n",
       "       [1, 6, 1],\n",
       "       [0, 1, 8],\n",
       "       [7, 9, 0],\n",
       "       [8, 0, 2]])"
      ]
     },
     "execution_count": 6,
     "metadata": {},
     "output_type": "execute_result"
    }
   ],
   "source": [
    "random_array_4\n"
   ]
  },
  {
   "cell_type": "code",
   "execution_count": 7,
   "id": "dc195b25-cf01-4d77-8162-7661de7587e5",
   "metadata": {},
   "outputs": [
    {
     "data": {
      "text/plain": [
       "(5, 3)"
      ]
     },
     "execution_count": 7,
     "metadata": {},
     "output_type": "execute_result"
    }
   ],
   "source": [
    "random_array_4.shape"
   ]
  },
  {
   "cell_type": "code",
   "execution_count": 8,
   "id": "6a2b4788-f658-4bd0-bd36-7142d0bd0d3f",
   "metadata": {},
   "outputs": [
    {
     "data": {
      "text/plain": [
       "array([[5, 5, 9],\n",
       "       [1, 6, 1],\n",
       "       [0, 1, 8],\n",
       "       [7, 9, 0],\n",
       "       [8, 0, 2]])"
      ]
     },
     "execution_count": 8,
     "metadata": {},
     "output_type": "execute_result"
    }
   ],
   "source": [
    "random_array_4\n"
   ]
  },
  {
   "cell_type": "code",
   "execution_count": 9,
   "id": "48366a23-e10d-49a2-9022-84ede6fe1d97",
   "metadata": {},
   "outputs": [
    {
     "data": {
      "text/plain": [
       "array([[5, 5, 9],\n",
       "       [1, 6, 1],\n",
       "       [0, 1, 8],\n",
       "       [7, 9, 0],\n",
       "       [8, 0, 2]])"
      ]
     },
     "execution_count": 9,
     "metadata": {},
     "output_type": "execute_result"
    }
   ],
   "source": [
    "random_array_4"
   ]
  },
  {
   "cell_type": "code",
   "execution_count": 12,
   "id": "8e8267b9-5e2b-4816-ab9c-ed123e834f10",
   "metadata": {},
   "outputs": [
    {
     "ename": "NameError",
     "evalue": "name 'a1' is not defined",
     "output_type": "error",
     "traceback": [
      "\u001b[1;31m---------------------------------------------------------------------------\u001b[0m",
      "\u001b[1;31mNameError\u001b[0m                                 Traceback (most recent call last)",
      "Cell \u001b[1;32mIn[12], line 1\u001b[0m\n\u001b[1;32m----> 1\u001b[0m a1\n",
      "\u001b[1;31mNameError\u001b[0m: name 'a1' is not defined"
     ]
    }
   ],
   "source": [
    "a1"
   ]
  },
  {
   "cell_type": "code",
   "execution_count": null,
   "id": "7aa6bfd8-61fc-4193-af0e-70cba3e3e949",
   "metadata": {},
   "outputs": [],
   "source": [
    " "
   ]
  }
 ],
 "metadata": {
  "kernelspec": {
   "display_name": "Python [conda env:base] *",
   "language": "python",
   "name": "conda-base-py"
  },
  "language_info": {
   "codemirror_mode": {
    "name": "ipython",
    "version": 3
   },
   "file_extension": ".py",
   "mimetype": "text/x-python",
   "name": "python",
   "nbconvert_exporter": "python",
   "pygments_lexer": "ipython3",
   "version": "3.12.7"
  }
 },
 "nbformat": 4,
 "nbformat_minor": 5
}
