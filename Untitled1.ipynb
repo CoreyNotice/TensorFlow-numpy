{
 "cells": [
  {
   "cell_type": "code",
   "execution_count": 4,
   "id": "1860d8f7-5a41-4f60-a424-c19fc1d56fb9",
   "metadata": {},
   "outputs": [
    {
     "data": {
      "text/plain": [
       "array([[[[8, 4, 3, 5, 0],\n",
       "         [8, 8, 8, 1, 2],\n",
       "         [7, 1, 8, 4, 3],\n",
       "         [4, 3, 1, 7, 6]],\n",
       "\n",
       "        [[3, 9, 0, 4, 4],\n",
       "         [2, 3, 1, 4, 1],\n",
       "         [2, 6, 7, 4, 9],\n",
       "         [8, 6, 6, 7, 7]],\n",
       "\n",
       "        [[6, 6, 5, 9, 8],\n",
       "         [2, 6, 0, 8, 2],\n",
       "         [3, 9, 0, 1, 6],\n",
       "         [5, 8, 8, 5, 1]]],\n",
       "\n",
       "\n",
       "       [[[3, 1, 2, 4, 5],\n",
       "         [2, 1, 4, 6, 0],\n",
       "         [5, 5, 0, 9, 7],\n",
       "         [3, 6, 5, 6, 0]],\n",
       "\n",
       "        [[3, 1, 2, 3, 9],\n",
       "         [8, 5, 9, 0, 6],\n",
       "         [4, 5, 4, 2, 6],\n",
       "         [0, 2, 9, 3, 1]],\n",
       "\n",
       "        [[8, 2, 8, 1, 3],\n",
       "         [7, 3, 2, 4, 4],\n",
       "         [9, 0, 1, 4, 8],\n",
       "         [7, 5, 2, 6, 1]]]])"
      ]
     },
     "execution_count": 4,
     "metadata": {},
     "output_type": "execute_result"
    }
   ],
   "source": [
    "import numpy as np \n",
    "a4 = np.random.randint(10,size=(2,3,4,5))\n",
    "a4"
   ]
  },
  {
   "cell_type": "code",
   "execution_count": 7,
   "id": "4a615394-d83c-481f-99c4-d40b27d2fff2",
   "metadata": {},
   "outputs": [
    {
     "data": {
      "text/plain": [
       "array([[[[8, 4, 3, 5],\n",
       "         [8, 8, 8, 1],\n",
       "         [7, 1, 8, 4],\n",
       "         [4, 3, 1, 7]],\n",
       "\n",
       "        [[3, 9, 0, 4],\n",
       "         [2, 3, 1, 4],\n",
       "         [2, 6, 7, 4],\n",
       "         [8, 6, 6, 7]],\n",
       "\n",
       "        [[6, 6, 5, 9],\n",
       "         [2, 6, 0, 8],\n",
       "         [3, 9, 0, 1],\n",
       "         [5, 8, 8, 5]]],\n",
       "\n",
       "\n",
       "       [[[3, 1, 2, 4],\n",
       "         [2, 1, 4, 6],\n",
       "         [5, 5, 0, 9],\n",
       "         [3, 6, 5, 6]],\n",
       "\n",
       "        [[3, 1, 2, 3],\n",
       "         [8, 5, 9, 0],\n",
       "         [4, 5, 4, 2],\n",
       "         [0, 2, 9, 3]],\n",
       "\n",
       "        [[8, 2, 8, 1],\n",
       "         [7, 3, 2, 4],\n",
       "         [9, 0, 1, 4],\n",
       "         [7, 5, 2, 6]]]])"
      ]
     },
     "execution_count": 7,
     "metadata": {},
     "output_type": "execute_result"
    }
   ],
   "source": [
    "a4[:, :, :, :4]"
   ]
  },
  {
   "cell_type": "code",
   "execution_count": 8,
   "id": "2bb574d8-b888-44c0-8054-a3e80c4c116d",
   "metadata": {},
   "outputs": [
    {
     "data": {
      "text/plain": [
       "array([[[[8, 4, 3, 5, 0],\n",
       "         [8, 8, 8, 1, 2],\n",
       "         [7, 1, 8, 4, 3],\n",
       "         [4, 3, 1, 7, 6]],\n",
       "\n",
       "        [[3, 9, 0, 4, 4],\n",
       "         [2, 3, 1, 4, 1],\n",
       "         [2, 6, 7, 4, 9],\n",
       "         [8, 6, 6, 7, 7]],\n",
       "\n",
       "        [[6, 6, 5, 9, 8],\n",
       "         [2, 6, 0, 8, 2],\n",
       "         [3, 9, 0, 1, 6],\n",
       "         [5, 8, 8, 5, 1]]],\n",
       "\n",
       "\n",
       "       [[[3, 1, 2, 4, 5],\n",
       "         [2, 1, 4, 6, 0],\n",
       "         [5, 5, 0, 9, 7],\n",
       "         [3, 6, 5, 6, 0]],\n",
       "\n",
       "        [[3, 1, 2, 3, 9],\n",
       "         [8, 5, 9, 0, 6],\n",
       "         [4, 5, 4, 2, 6],\n",
       "         [0, 2, 9, 3, 1]],\n",
       "\n",
       "        [[8, 2, 8, 1, 3],\n",
       "         [7, 3, 2, 4, 4],\n",
       "         [9, 0, 1, 4, 8],\n",
       "         [7, 5, 2, 6, 1]]]])"
      ]
     },
     "execution_count": 8,
     "metadata": {},
     "output_type": "execute_result"
    }
   ],
   "source": [
    "a4"
   ]
  },
  {
   "cell_type": "code",
   "execution_count": 10,
   "id": "96a06338-2a99-453d-ac4a-2fb0888bfda9",
   "metadata": {},
   "outputs": [
    {
     "data": {
      "text/plain": [
       "array([1., 1., 1.])"
      ]
     },
     "execution_count": 10,
     "metadata": {},
     "output_type": "execute_result"
    }
   ],
   "source": [
    "ones=np.ones(3)\n",
    "ones"
   ]
  },
  {
   "cell_type": "code",
   "execution_count": 13,
   "id": "194d44a8-f5f0-4927-90c0-e99d223d2165",
   "metadata": {},
   "outputs": [
    {
     "data": {
      "text/plain": [
       "array([[8, 9, 9],\n",
       "       [7, 3, 8],\n",
       "       [2, 7, 3],\n",
       "       [6, 9, 4],\n",
       "       [2, 7, 2]])"
      ]
     },
     "execution_count": 13,
     "metadata": {},
     "output_type": "execute_result"
    }
   ],
   "source": [
    "a1=np.random.randint(10, size=(5,3))\n",
    "a1\n"
   ]
  },
  {
   "cell_type": "code",
   "execution_count": 14,
   "id": "178163ea-2333-45de-9804-c906fd0670fa",
   "metadata": {},
   "outputs": [
    {
     "data": {
      "text/plain": [
       "array([[ 9., 10., 10.],\n",
       "       [ 8.,  4.,  9.],\n",
       "       [ 3.,  8.,  4.],\n",
       "       [ 7., 10.,  5.],\n",
       "       [ 3.,  8.,  3.]])"
      ]
     },
     "execution_count": 14,
     "metadata": {},
     "output_type": "execute_result"
    }
   ],
   "source": [
    "a1+ones"
   ]
  },
  {
   "cell_type": "code",
   "execution_count": 15,
   "id": "e96c7a82-aa7b-48c0-a921-20db736d4e7f",
   "metadata": {},
   "outputs": [
    {
     "data": {
      "text/plain": [
       "array([1., 1., 1.])"
      ]
     },
     "execution_count": 15,
     "metadata": {},
     "output_type": "execute_result"
    }
   ],
   "source": [
    "ones"
   ]
  },
  {
   "cell_type": "code",
   "execution_count": 17,
   "id": "3455117f-f790-4169-b977-7655ec2bd864",
   "metadata": {},
   "outputs": [
    {
     "data": {
      "text/plain": [
       "array([[7., 8., 8.],\n",
       "       [6., 2., 7.],\n",
       "       [1., 6., 2.],\n",
       "       [5., 8., 3.],\n",
       "       [1., 6., 1.]])"
      ]
     },
     "execution_count": 17,
     "metadata": {},
     "output_type": "execute_result"
    }
   ],
   "source": [
    "a1 - ones"
   ]
  },
  {
   "cell_type": "code",
   "execution_count": 18,
   "id": "09280306-3692-4181-8405-9958ec83dbb5",
   "metadata": {},
   "outputs": [
    {
     "data": {
      "text/plain": [
       "list"
      ]
     },
     "execution_count": 18,
     "metadata": {},
     "output_type": "execute_result"
    }
   ],
   "source": [
    "listy_list = [1,2,3]\n",
    "type(listy_list)"
   ]
  },
  {
   "cell_type": "code",
   "execution_count": 19,
   "id": "eb00bdf4-1cea-4964-8c5a-9e2891ab4f7c",
   "metadata": {},
   "outputs": [
    {
     "data": {
      "text/plain": [
       "6"
      ]
     },
     "execution_count": 19,
     "metadata": {},
     "output_type": "execute_result"
    }
   ],
   "source": [
    "sum(listy_list)"
   ]
  },
  {
   "cell_type": "code",
   "execution_count": 20,
   "id": "be9f4ec6-8e94-4de3-a228-895b8c5ce426",
   "metadata": {},
   "outputs": [
    {
     "data": {
      "text/plain": [
       "86"
      ]
     },
     "execution_count": 20,
     "metadata": {},
     "output_type": "execute_result"
    }
   ],
   "source": [
    "np.sum(a1)"
   ]
  },
  {
   "cell_type": "code",
   "execution_count": 21,
   "id": "83f01ecd-c47b-4b9e-9229-f0aa3e817955",
   "metadata": {},
   "outputs": [
    {
     "data": {
      "text/plain": [
       "array([[8, 9, 9],\n",
       "       [7, 3, 8],\n",
       "       [2, 7, 3],\n",
       "       [6, 9, 4],\n",
       "       [2, 7, 2]])"
      ]
     },
     "execution_count": 21,
     "metadata": {},
     "output_type": "execute_result"
    }
   ],
   "source": [
    "a1"
   ]
  },
  {
   "cell_type": "code",
   "execution_count": 23,
   "id": "6b952b04-cae8-4742-898a-34be4287ba98",
   "metadata": {},
   "outputs": [
    {
     "data": {
      "text/plain": [
       "100000"
      ]
     },
     "execution_count": 23,
     "metadata": {},
     "output_type": "execute_result"
    }
   ],
   "source": [
    "massive_array = np.random.random(100000)\n",
    "massive_array.size\n"
   ]
  },
  {
   "cell_type": "code",
   "execution_count": 24,
   "id": "edb368c8-c3d8-4301-96c6-faab38354458",
   "metadata": {},
   "outputs": [
    {
     "data": {
      "text/plain": [
       "array([0.30129397, 0.27577173, 0.74220141, 0.59052547, 0.34074758,\n",
       "       0.10096015, 0.69197269, 0.33459093, 0.85432552, 0.21789646,\n",
       "       0.78728603, 0.97730629, 0.88775978, 0.11801117, 0.82871247,\n",
       "       0.26662511, 0.14411499, 0.32762433, 0.56309833, 0.42565228,\n",
       "       0.17694591, 0.12642718, 0.45570093, 0.39328441, 0.46483421,\n",
       "       0.12732755, 0.24294888, 0.64813817, 0.16296372, 0.70413342,\n",
       "       0.81781165, 0.02437954, 0.35394008, 0.49136996, 0.13305319,\n",
       "       0.5126647 , 0.51730628, 0.35032014, 0.49787381, 0.92663411,\n",
       "       0.98930695, 0.18467385, 0.83125778, 0.29999593, 0.65054688,\n",
       "       0.9150345 , 0.54616252, 0.27777409, 0.74294126, 0.41581974,\n",
       "       0.87711625, 0.69822442, 0.72547174, 0.585179  , 0.27034402,\n",
       "       0.69671863, 0.20034086, 0.96790183, 0.71514819, 0.45339375,\n",
       "       0.34214741, 0.20334575, 0.03862712, 0.81983576, 0.87505982,\n",
       "       0.21376229, 0.30407669, 0.27805261, 0.45487336, 0.70352854,\n",
       "       0.30044856, 0.30141172, 0.89644758, 0.68435218, 0.6434895 ,\n",
       "       0.35694463, 0.03849648, 0.87680936, 0.91132485, 0.28392253,\n",
       "       0.80830315, 0.0225834 , 0.91270227, 0.20003768, 0.12376665,\n",
       "       0.17205531, 0.82778227, 0.24155455, 0.4428325 , 0.79316943,\n",
       "       0.00836918, 0.59713679, 0.22046853, 0.43126176, 0.8542352 ,\n",
       "       0.82982883, 0.08554476, 0.08772364, 0.94819915, 0.37141009])"
      ]
     },
     "execution_count": 24,
     "metadata": {},
     "output_type": "execute_result"
    }
   ],
   "source": [
    "massive_array[:100]"
   ]
  },
  {
   "cell_type": "code",
   "execution_count": 25,
   "id": "3d496094-c7e8-4f37-bf5e-6eb7c7462f57",
   "metadata": {},
   "outputs": [
    {
     "data": {
      "text/plain": [
       "array([0.30129397, 0.27577173, 0.74220141, 0.59052547, 0.34074758,\n",
       "       0.10096015, 0.69197269, 0.33459093, 0.85432552, 0.21789646])"
      ]
     },
     "execution_count": 25,
     "metadata": {},
     "output_type": "execute_result"
    }
   ],
   "source": [
    "massive_array[:10]\n"
   ]
  },
  {
   "cell_type": "code",
   "execution_count": 27,
   "id": "c3ea693e-c828-4c17-87da-42dbaa8c5b84",
   "metadata": {},
   "outputs": [
    {
     "name": "stdout",
     "output_type": "stream",
     "text": [
      "39.2 ms ± 8.15 ms per loop (mean ± std. dev. of 7 runs, 10 loops each)\n",
      "170 μs ± 20.4 μs per loop (mean ± std. dev. of 7 runs, 10,000 loops each)\n"
     ]
    }
   ],
   "source": [
    "%timeit sum(massive_array)\n",
    "%timeit np.sum(massive_array)"
   ]
  },
  {
   "cell_type": "code",
   "execution_count": null,
   "id": "08590f73-8614-4a9a-b583-11a42ee1d194",
   "metadata": {},
   "outputs": [],
   "source": []
  }
 ],
 "metadata": {
  "kernelspec": {
   "display_name": "Python [conda env:base] *",
   "language": "python",
   "name": "conda-base-py"
  },
  "language_info": {
   "codemirror_mode": {
    "name": "ipython",
    "version": 3
   },
   "file_extension": ".py",
   "mimetype": "text/x-python",
   "name": "python",
   "nbconvert_exporter": "python",
   "pygments_lexer": "ipython3",
   "version": "3.12.7"
  }
 },
 "nbformat": 4,
 "nbformat_minor": 5
}
