{
 "cells": [
  {
   "cell_type": "code",
   "execution_count": null,
   "id": "ff3a3c89-a474-40ae-9b69-4334a67d7f50",
   "metadata": {},
   "outputs": [],
   "source": []
  }
 ],
 "metadata": {
  "kernelspec": {
   "display_name": "",
   "name": ""
  },
  "language_info": {
   "name": ""
  }
 },
 "nbformat": 4,
 "nbformat_minor": 5
}
